{
  "cells": [
    {
      "cell_type": "code",
      "execution_count": 1,
      "metadata": {
        "id": "dvYYk-qOMBqV"
      },
      "outputs": [
        {
          "name": "stderr",
          "output_type": "stream",
          "text": [
            "2022-12-25 23:24:37.756900: I tensorflow/core/platform/cpu_feature_guard.cc:193] This TensorFlow binary is optimized with oneAPI Deep Neural Network Library (oneDNN) to use the following CPU instructions in performance-critical operations:  AVX2 FMA\n",
            "To enable them in other operations, rebuild TensorFlow with the appropriate compiler flags.\n"
          ]
        }
      ],
      "source": [
        "import tensorflow as tf\n",
        "import pandas as pd\n",
        "import numpy as np\n",
        "import matplotlib.pyplot as plt\n",
        "import os\n",
        "from tensorflow.keras.preprocessing.image import load_img\n",
        "from sklearn.model_selection import train_test_split\n",
        "from keras.utils.vis_utils import plot_model"
      ]
    },
    {
      "cell_type": "code",
      "execution_count": 2,
      "metadata": {
        "id": "REZqHL4eMexZ"
      },
      "outputs": [],
      "source": [
        "IMG_SIZE = (300, 300)\n",
        "batch_size = 64\n",
        "num_epochs = 50\n",
        "NUM_CLASSES = 5"
      ]
    },
    {
      "cell_type": "code",
      "execution_count": 3,
      "metadata": {},
      "outputs": [],
      "source": [
        "# Bands used for CNN classification\n",
        "bands = ['B3', 'B4', 'B8', 'B8A', 'B11', 'B12']"
      ]
    },
    {
      "cell_type": "code",
      "execution_count": 4,
      "metadata": {},
      "outputs": [
        {
          "name": "stdout",
          "output_type": "stream",
          "text": [
            "(3110, 2) (778, 2)\n"
          ]
        }
      ],
      "source": [
        "# Loading dataset csv\n",
        "labels = pd.read_csv('./classes/labels.csv')\n",
        "\n",
        "# Split data set to train and validation\n",
        "train_labels, valid_labels = train_test_split(labels, test_size=0.2, random_state=101)\n",
        "print(train_labels.shape, valid_labels.shape)"
      ]
    },
    {
      "cell_type": "code",
      "execution_count": 6,
      "metadata": {},
      "outputs": [],
      "source": [
        "# Class to load images (concatenate all bands to np arr) \n",
        "# and corresponding labels for training\n",
        "\n",
        "class Sequence_generator(tf.keras.utils.Sequence):\n",
        "    \"\"\"Helper to iterate over the data (as Numpy arrays).\"\"\"\n",
        "\n",
        "    def __init__(self, labels, bands, batch_size, img_size):\n",
        "        self.batch_size = batch_size\n",
        "        self.img_size = img_size\n",
        "        self.labels = labels\n",
        "        self.bands = bands\n",
        "\n",
        "    def __len__(self):\n",
        "        return len(self.labels) // self.batch_size\n",
        "\n",
        "    def __getitem__(self, idx):\n",
        "        \"\"\"Returns tuple (input, target) correspond to batch #idx.\"\"\"\n",
        "        i = idx * self.batch_size\n",
        "        batch_files = self.labels['file'][i: i + self.batch_size]\n",
        "        x = np.zeros((self.batch_size,) +\n",
        "                     self.img_size + (len(self.bands),), dtype=\"float32\")\n",
        "        for j, file_name in enumerate(batch_files):\n",
        "            for b, band in enumerate(self.bands):\n",
        "                img = load_img(\n",
        "                    f'./classes/all_data/{band}/{file_name}',\n",
        "                    target_size=self.img_size,\n",
        "                    color_mode='grayscale'\n",
        "                )\n",
        "                x[j, :, :, b] = img\n",
        "\n",
        "        l = self.labels['label'][i: i+self.batch_size].to_numpy(dtype='uint8')\n",
        "        y = np.zeros((l.size, NUM_CLASSES))\n",
        "        y[np.arange(l.size), l] = 1\n",
        "        return x, y\n",
        "\n",
        "    def on_epoch_end(self):\n",
        "        self.labels = self.labels.sample(frac=1)\n",
        "        return super().on_epoch_end()\n"
      ]
    },
    {
      "cell_type": "code",
      "execution_count": 7,
      "metadata": {},
      "outputs": [],
      "source": [
        "from keras.layers import (Dense, Conv2D, MaxPooling2D, Flatten, Dropout, BatchNormalization)"
      ]
    },
    {
      "cell_type": "code",
      "execution_count": 8,
      "metadata": {
        "id": "9H55-tKucX-k"
      },
      "outputs": [
        {
          "name": "stderr",
          "output_type": "stream",
          "text": [
            "2022-12-25 23:24:40.999905: I tensorflow/core/platform/cpu_feature_guard.cc:193] This TensorFlow binary is optimized with oneAPI Deep Neural Network Library (oneDNN) to use the following CPU instructions in performance-critical operations:  AVX2 FMA\n",
            "To enable them in other operations, rebuild TensorFlow with the appropriate compiler flags.\n",
            "2022-12-25 23:24:41.549370: W tensorflow/core/common_runtime/gpu/gpu_bfc_allocator.cc:42] Overriding orig_value setting because the TF_FORCE_GPU_ALLOW_GROWTH environment variable is set. Original config value was 0.\n",
            "2022-12-25 23:24:41.549410: I tensorflow/core/common_runtime/gpu/gpu_device.cc:1613] Created device /job:localhost/replica:0/task:0/device:GPU:0 with 1619 MB memory:  -> device: 0, name: NVIDIA GeForce MX110, pci bus id: 0000:01:00.0, compute capability: 5.0\n"
          ]
        }
      ],
      "source": [
        "# Creating a Keras sequential model\n",
        "model = tf.keras.models.Sequential()\n",
        "\n",
        "# Adding layers\n",
        "model.add(Conv2D(16, (3, 3), strides=2, padding=\"same\",      # 300,300\n",
        "                 activation=\"relu\", input_shape=IMG_SIZE+(len(bands),)))\n",
        "model.add(BatchNormalization())\n",
        "model.add(MaxPooling2D((2, 2), strides=2, padding=\"same\"))      # 150,150\n",
        "# model.add(Dropout(0.2))\n",
        "\n",
        "model.add(Conv2D(32, (3, 3), strides=2, padding=\"same\", activation=\"relu\"))\n",
        "model.add(BatchNormalization())\n",
        "model.add(MaxPooling2D((3, 3), strides=3, padding=\"same\"))      # 75,75\n",
        "# model.add(Dropout(0.2))\n",
        "\n",
        "model.add(Conv2D(64, (3, 3), strides=2, padding=\"same\", activation=\"relu\"))\n",
        "model.add(BatchNormalization())\n",
        "model.add(MaxPooling2D((2, 2), strides=2, padding=\"same\"))\n",
        "\n",
        "model.add(Conv2D(128, (3, 3), strides=1, padding=\"same\", activation=\"relu\"))\n",
        "model.add(BatchNormalization())\n",
        "model.add(MaxPooling2D((2, 2), strides=2, padding=\"same\"))\n",
        "\n",
        "model.add(Flatten())\n",
        "model.add(Dropout(0.2))\n",
        "model.add(Dense(units=256, activation=\"relu\"))\n",
        "model.add(Dropout(0.2))\n",
        "model.add(Dense(5, activation='softmax'))\n"
      ]
    },
    {
      "cell_type": "code",
      "execution_count": 10,
      "metadata": {},
      "outputs": [],
      "source": [
        "# Optimizers, loss function and performance metrics\n",
        "opt = 'Adamax'\n",
        "cat_loss = tf.keras.losses.CategoricalCrossentropy()\n",
        "acc_metrics = [tf.keras.metrics.CategoricalAccuracy()]\n",
        "\n",
        "# Compiling the model\n",
        "model.compile(optimizer=opt, loss=cat_loss, metrics=acc_metrics)"
      ]
    },
    {
      "cell_type": "code",
      "execution_count": 11,
      "metadata": {},
      "outputs": [
        {
          "name": "stdout",
          "output_type": "stream",
          "text": [
            "Model: \"sequential\"\n",
            "_________________________________________________________________\n",
            " Layer (type)                Output Shape              Param #   \n",
            "=================================================================\n",
            " conv2d (Conv2D)             (None, 150, 150, 16)      880       \n",
            "                                                                 \n",
            " batch_normalization (BatchN  (None, 150, 150, 16)     64        \n",
            " ormalization)                                                   \n",
            "                                                                 \n",
            " max_pooling2d (MaxPooling2D  (None, 75, 75, 16)       0         \n",
            " )                                                               \n",
            "                                                                 \n",
            " conv2d_1 (Conv2D)           (None, 38, 38, 32)        4640      \n",
            "                                                                 \n",
            " batch_normalization_1 (Batc  (None, 38, 38, 32)       128       \n",
            " hNormalization)                                                 \n",
            "                                                                 \n",
            " max_pooling2d_1 (MaxPooling  (None, 13, 13, 32)       0         \n",
            " 2D)                                                             \n",
            "                                                                 \n",
            " conv2d_2 (Conv2D)           (None, 7, 7, 64)          18496     \n",
            "                                                                 \n",
            " batch_normalization_2 (Batc  (None, 7, 7, 64)         256       \n",
            " hNormalization)                                                 \n",
            "                                                                 \n",
            " max_pooling2d_2 (MaxPooling  (None, 4, 4, 64)         0         \n",
            " 2D)                                                             \n",
            "                                                                 \n",
            " conv2d_3 (Conv2D)           (None, 4, 4, 128)         73856     \n",
            "                                                                 \n",
            " batch_normalization_3 (Batc  (None, 4, 4, 128)        512       \n",
            " hNormalization)                                                 \n",
            "                                                                 \n",
            " max_pooling2d_3 (MaxPooling  (None, 2, 2, 128)        0         \n",
            " 2D)                                                             \n",
            "                                                                 \n",
            " flatten (Flatten)           (None, 512)               0         \n",
            "                                                                 \n",
            " dropout (Dropout)           (None, 512)               0         \n",
            "                                                                 \n",
            " dense (Dense)               (None, 256)               131328    \n",
            "                                                                 \n",
            " dropout_1 (Dropout)         (None, 256)               0         \n",
            "                                                                 \n",
            " dense_1 (Dense)             (None, 5)                 1285      \n",
            "                                                                 \n",
            "=================================================================\n",
            "Total params: 231,445\n",
            "Trainable params: 230,965\n",
            "Non-trainable params: 480\n",
            "_________________________________________________________________\n"
          ]
        }
      ],
      "source": [
        "model.summary()"
      ]
    },
    {
      "cell_type": "code",
      "execution_count": 12,
      "metadata": {},
      "outputs": [],
      "source": [
        "# plot_model(model, to_file=f'{model.name}.png', show_shapes=True, show_layer_names=True)"
      ]
    },
    {
      "cell_type": "code",
      "execution_count": 13,
      "metadata": {},
      "outputs": [],
      "source": [
        "# Data generators for training and testing\n",
        "train_gen = Sequence_generator(train_labels, bands, batch_size, IMG_SIZE)\n",
        "valid_gen = Sequence_generator(valid_labels, bands, batch_size, IMG_SIZE)"
      ]
    },
    {
      "cell_type": "code",
      "execution_count": 14,
      "metadata": {},
      "outputs": [
        {
          "data": {
            "text/plain": [
              "(64, 300, 300, 6)"
            ]
          },
          "execution_count": 14,
          "metadata": {},
          "output_type": "execute_result"
        }
      ],
      "source": [
        "x = train_gen[0]\n",
        "x[0].shape"
      ]
    },
    {
      "cell_type": "code",
      "execution_count": 15,
      "metadata": {},
      "outputs": [],
      "source": [
        "callbacks = [\n",
        "    tf.keras.callbacks.ModelCheckpoint(\n",
        "        \"./cnn_weights/CNN_classification_{val_categorical_accuracy:.3f}.h5\", \n",
        "        monitor='val_categorical_accuracy', \n",
        "        save_best_only=True\n",
        "    )\n",
        "]"
      ]
    },
    {
      "cell_type": "code",
      "execution_count": 16,
      "metadata": {},
      "outputs": [
        {
          "name": "stdout",
          "output_type": "stream",
          "text": [
            "Epoch 1/50\n"
          ]
        },
        {
          "name": "stderr",
          "output_type": "stream",
          "text": [
            "2022-12-25 23:24:45.867472: I tensorflow/compiler/xla/stream_executor/cuda/cuda_dnn.cc:428] Loaded cuDNN version 8700\n",
            "2022-12-25 23:24:48.126237: I tensorflow/compiler/xla/service/service.cc:173] XLA service 0x7f0300017350 initialized for platform CUDA (this does not guarantee that XLA will be used). Devices:\n",
            "2022-12-25 23:24:48.126265: I tensorflow/compiler/xla/service/service.cc:181]   StreamExecutor device (0): NVIDIA GeForce MX110, Compute Capability 5.0\n",
            "2022-12-25 23:24:48.129956: I tensorflow/compiler/mlir/tensorflow/utils/dump_mlir_util.cc:268] disabling MLIR crash reproducer, set env var `MLIR_CRASH_REPRODUCER_DIRECTORY` to enable.\n",
            "2022-12-25 23:24:48.222273: I tensorflow/compiler/jit/xla_compilation_cache.cc:477] Compiled cluster using XLA!  This line is logged at most once for the lifetime of the process.\n"
          ]
        },
        {
          "name": "stdout",
          "output_type": "stream",
          "text": [
            "48/48 [==============================] - 60s 1s/step - loss: 0.9672 - categorical_accuracy: 0.6816 - val_loss: 1.5911 - val_categorical_accuracy: 0.5365\n",
            "Epoch 2/50\n",
            "48/48 [==============================] - 52s 1s/step - loss: 0.6326 - categorical_accuracy: 0.7529 - val_loss: 1.0516 - val_categorical_accuracy: 0.5586\n",
            "Epoch 3/50\n",
            "48/48 [==============================] - 52s 1s/step - loss: 0.5752 - categorical_accuracy: 0.7806 - val_loss: 0.8373 - val_categorical_accuracy: 0.6667\n",
            "Epoch 4/50\n",
            "48/48 [==============================] - 52s 1s/step - loss: 0.5033 - categorical_accuracy: 0.7998 - val_loss: 0.6243 - val_categorical_accuracy: 0.7630\n",
            "Epoch 5/50\n",
            "48/48 [==============================] - 52s 1s/step - loss: 0.4842 - categorical_accuracy: 0.8047 - val_loss: 0.5567 - val_categorical_accuracy: 0.7878\n",
            "Epoch 6/50\n",
            "48/48 [==============================] - 52s 1s/step - loss: 0.4419 - categorical_accuracy: 0.8161 - val_loss: 0.5372 - val_categorical_accuracy: 0.8021\n",
            "Epoch 7/50\n",
            "48/48 [==============================] - 51s 1s/step - loss: 0.4072 - categorical_accuracy: 0.8291 - val_loss: 0.5035 - val_categorical_accuracy: 0.8008\n",
            "Epoch 8/50\n",
            "48/48 [==============================] - 51s 1s/step - loss: 0.3863 - categorical_accuracy: 0.8395 - val_loss: 0.5590 - val_categorical_accuracy: 0.7760\n",
            "Epoch 9/50\n",
            "48/48 [==============================] - 52s 1s/step - loss: 0.3887 - categorical_accuracy: 0.8369 - val_loss: 0.5473 - val_categorical_accuracy: 0.7865\n",
            "Epoch 10/50\n",
            "48/48 [==============================] - 51s 1s/step - loss: 0.3476 - categorical_accuracy: 0.8584 - val_loss: 0.6219 - val_categorical_accuracy: 0.7487\n",
            "Epoch 11/50\n",
            "48/48 [==============================] - 52s 1s/step - loss: 0.3510 - categorical_accuracy: 0.8551 - val_loss: 0.5160 - val_categorical_accuracy: 0.8099\n",
            "Epoch 12/50\n",
            "48/48 [==============================] - 52s 1s/step - loss: 0.3394 - categorical_accuracy: 0.8597 - val_loss: 0.5274 - val_categorical_accuracy: 0.7956\n",
            "Epoch 13/50\n",
            "48/48 [==============================] - 52s 1s/step - loss: 0.3044 - categorical_accuracy: 0.8737 - val_loss: 0.6065 - val_categorical_accuracy: 0.7708\n",
            "Epoch 14/50\n",
            "48/48 [==============================] - 52s 1s/step - loss: 0.2930 - categorical_accuracy: 0.8792 - val_loss: 0.5269 - val_categorical_accuracy: 0.7891\n",
            "Epoch 15/50\n",
            "48/48 [==============================] - 52s 1s/step - loss: 0.2958 - categorical_accuracy: 0.8815 - val_loss: 0.5380 - val_categorical_accuracy: 0.8008\n",
            "Epoch 16/50\n",
            "48/48 [==============================] - 52s 1s/step - loss: 0.2629 - categorical_accuracy: 0.9004 - val_loss: 0.5515 - val_categorical_accuracy: 0.7917\n",
            "Epoch 17/50\n",
            "48/48 [==============================] - 52s 1s/step - loss: 0.2502 - categorical_accuracy: 0.9062 - val_loss: 0.5206 - val_categorical_accuracy: 0.8099\n",
            "Epoch 18/50\n",
            "48/48 [==============================] - 52s 1s/step - loss: 0.2401 - categorical_accuracy: 0.9069 - val_loss: 0.5536 - val_categorical_accuracy: 0.8047\n",
            "Epoch 19/50\n",
            "48/48 [==============================] - 52s 1s/step - loss: 0.2197 - categorical_accuracy: 0.9196 - val_loss: 0.5457 - val_categorical_accuracy: 0.8086\n",
            "Epoch 20/50\n",
            "48/48 [==============================] - 52s 1s/step - loss: 0.2113 - categorical_accuracy: 0.9167 - val_loss: 0.5827 - val_categorical_accuracy: 0.8125\n",
            "Epoch 21/50\n",
            "48/48 [==============================] - 52s 1s/step - loss: 0.1856 - categorical_accuracy: 0.9310 - val_loss: 0.5848 - val_categorical_accuracy: 0.8112\n",
            "Epoch 22/50\n",
            "48/48 [==============================] - 52s 1s/step - loss: 0.1797 - categorical_accuracy: 0.9297 - val_loss: 0.5465 - val_categorical_accuracy: 0.8190\n",
            "Epoch 23/50\n",
            "48/48 [==============================] - 52s 1s/step - loss: 0.1887 - categorical_accuracy: 0.9281 - val_loss: 0.7044 - val_categorical_accuracy: 0.7721\n",
            "Epoch 24/50\n",
            "48/48 [==============================] - 52s 1s/step - loss: 0.1668 - categorical_accuracy: 0.9437 - val_loss: 0.6101 - val_categorical_accuracy: 0.7982\n",
            "Epoch 25/50\n",
            "48/48 [==============================] - 52s 1s/step - loss: 0.1643 - categorical_accuracy: 0.9427 - val_loss: 0.6269 - val_categorical_accuracy: 0.7995\n",
            "Epoch 26/50\n",
            "48/48 [==============================] - 52s 1s/step - loss: 0.1471 - categorical_accuracy: 0.9469 - val_loss: 0.5926 - val_categorical_accuracy: 0.8281\n",
            "Epoch 27/50\n",
            "48/48 [==============================] - 52s 1s/step - loss: 0.1279 - categorical_accuracy: 0.9538 - val_loss: 0.6749 - val_categorical_accuracy: 0.8112\n",
            "Epoch 28/50\n",
            "48/48 [==============================] - 52s 1s/step - loss: 0.1435 - categorical_accuracy: 0.9486 - val_loss: 0.6358 - val_categorical_accuracy: 0.8151\n",
            "Epoch 29/50\n",
            "48/48 [==============================] - 52s 1s/step - loss: 0.1354 - categorical_accuracy: 0.9473 - val_loss: 0.6592 - val_categorical_accuracy: 0.8164\n",
            "Epoch 30/50\n",
            "48/48 [==============================] - 52s 1s/step - loss: 0.1166 - categorical_accuracy: 0.9609 - val_loss: 0.6061 - val_categorical_accuracy: 0.8164\n",
            "Epoch 31/50\n",
            "48/48 [==============================] - 52s 1s/step - loss: 0.1254 - categorical_accuracy: 0.9561 - val_loss: 0.6222 - val_categorical_accuracy: 0.8047\n",
            "Epoch 32/50\n",
            "48/48 [==============================] - 52s 1s/step - loss: 0.1068 - categorical_accuracy: 0.9622 - val_loss: 0.6638 - val_categorical_accuracy: 0.8203\n",
            "Epoch 33/50\n",
            "48/48 [==============================] - 52s 1s/step - loss: 0.0992 - categorical_accuracy: 0.9642 - val_loss: 0.7367 - val_categorical_accuracy: 0.7904\n",
            "Epoch 34/50\n",
            "48/48 [==============================] - 52s 1s/step - loss: 0.1040 - categorical_accuracy: 0.9616 - val_loss: 0.7487 - val_categorical_accuracy: 0.7878\n",
            "Epoch 35/50\n",
            "48/48 [==============================] - 52s 1s/step - loss: 0.1080 - categorical_accuracy: 0.9661 - val_loss: 0.7377 - val_categorical_accuracy: 0.7891\n",
            "Epoch 36/50\n",
            "48/48 [==============================] - 53s 1s/step - loss: 0.0961 - categorical_accuracy: 0.9678 - val_loss: 0.6509 - val_categorical_accuracy: 0.8190\n",
            "Epoch 37/50\n",
            "48/48 [==============================] - 52s 1s/step - loss: 0.0854 - categorical_accuracy: 0.9707 - val_loss: 0.7406 - val_categorical_accuracy: 0.8138\n",
            "Epoch 38/50\n",
            "48/48 [==============================] - 52s 1s/step - loss: 0.0848 - categorical_accuracy: 0.9694 - val_loss: 0.7553 - val_categorical_accuracy: 0.8190\n",
            "Epoch 39/50\n",
            "48/48 [==============================] - 52s 1s/step - loss: 0.0871 - categorical_accuracy: 0.9694 - val_loss: 0.7082 - val_categorical_accuracy: 0.8008\n",
            "Epoch 40/50\n",
            "48/48 [==============================] - 52s 1s/step - loss: 0.0810 - categorical_accuracy: 0.9717 - val_loss: 0.7523 - val_categorical_accuracy: 0.8073\n",
            "Epoch 41/50\n",
            "48/48 [==============================] - 52s 1s/step - loss: 0.0730 - categorical_accuracy: 0.9743 - val_loss: 0.7516 - val_categorical_accuracy: 0.8164\n",
            "Epoch 42/50\n",
            "48/48 [==============================] - 52s 1s/step - loss: 0.0901 - categorical_accuracy: 0.9681 - val_loss: 0.7107 - val_categorical_accuracy: 0.8060\n",
            "Epoch 43/50\n",
            "48/48 [==============================] - 53s 1s/step - loss: 0.0742 - categorical_accuracy: 0.9756 - val_loss: 0.8104 - val_categorical_accuracy: 0.7982\n",
            "Epoch 44/50\n",
            "48/48 [==============================] - 53s 1s/step - loss: 0.0732 - categorical_accuracy: 0.9746 - val_loss: 0.7485 - val_categorical_accuracy: 0.8060\n",
            "Epoch 45/50\n",
            "48/48 [==============================] - 53s 1s/step - loss: 0.0632 - categorical_accuracy: 0.9798 - val_loss: 0.6999 - val_categorical_accuracy: 0.8177\n",
            "Epoch 46/50\n",
            "48/48 [==============================] - 53s 1s/step - loss: 0.0619 - categorical_accuracy: 0.9792 - val_loss: 0.7519 - val_categorical_accuracy: 0.8125\n",
            "Epoch 47/50\n",
            "48/48 [==============================] - 52s 1s/step - loss: 0.0618 - categorical_accuracy: 0.9831 - val_loss: 0.7944 - val_categorical_accuracy: 0.8086\n",
            "Epoch 48/50\n",
            "48/48 [==============================] - 53s 1s/step - loss: 0.0584 - categorical_accuracy: 0.9821 - val_loss: 0.8309 - val_categorical_accuracy: 0.8125\n",
            "Epoch 49/50\n",
            "48/48 [==============================] - 52s 1s/step - loss: 0.0679 - categorical_accuracy: 0.9769 - val_loss: 0.7753 - val_categorical_accuracy: 0.8047\n",
            "Epoch 50/50\n",
            "48/48 [==============================] - 53s 1s/step - loss: 0.0555 - categorical_accuracy: 0.9827 - val_loss: 0.8970 - val_categorical_accuracy: 0.8125\n"
          ]
        }
      ],
      "source": [
        "mh = model.fit(\n",
        "    train_gen, \n",
        "    batch_size=batch_size,\n",
        "    validation_data=valid_gen, \n",
        "    epochs=num_epochs,\n",
        "    callbacks=callbacks\n",
        ")"
      ]
    },
    {
      "cell_type": "code",
      "execution_count": 17,
      "metadata": {},
      "outputs": [],
      "source": [
        "v_acc = mh.history['val_categorical_accuracy'][-1]\n",
        "model.save(f'{model.name}_{v_acc:.4f}.h5')"
      ]
    },
    {
      "cell_type": "code",
      "execution_count": 18,
      "metadata": {},
      "outputs": [],
      "source": [
        "train_acc = mh.history['categorical_accuracy']\n",
        "train_loss = mh.history['loss']\n",
        "\n",
        "val_acc = mh.history['val_categorical_accuracy']\n",
        "val_loss = mh.history['val_loss']"
      ]
    },
    {
      "cell_type": "code",
      "execution_count": 19,
      "metadata": {},
      "outputs": [
        {
          "data": {
            "image/png": "[encoded data removed]",
            "text/plain": [
              "<Figure size 432x288 with 1 Axes>"
            ]
          },
          "metadata": {
            "needs_background": "light"
          },
          "output_type": "display_data"
        }
      ],
      "source": [
        "# Plot Epochs Vs. training and validation accuracy\n",
        "acc_df = pd.DataFrame(zip(train_acc,val_acc), columns = ['train_acc', 'val_acc'])\n",
        "acc_df.index = np.arange(1,len(acc_df)+1,1)\n",
        "acc_df[['train_acc', 'val_acc']].plot()\n",
        "plt.xlabel('Epochs')\n",
        "plt.ylabel('Accuracy')\n",
        "plt.show()"
      ]
    },
    {
      "cell_type": "code",
      "execution_count": 20,
      "metadata": {},
      "outputs": [
        {
          "data": {
            "image/png": "[encoded data removed]",
            "text/plain": [
              "<Figure size 432x288 with 1 Axes>"
            ]
          },
          "metadata": {
            "needs_background": "light"
          },
          "output_type": "display_data"
        }
      ],
      "source": [
        "# Plot Epochs Vs. training and validation loss\n",
        "los_df = pd.DataFrame(zip(train_loss,val_loss), columns = ['train_loss', 'val_loss'])\n",
        "los_df.index = np.arange(1,len(los_df)+1,1)\n",
        "los_df[['train_loss', 'val_loss']].plot()\n",
        "plt.xlabel('Epochs')\n",
        "plt.ylabel('Loss')\n",
        "plt.show()"
      ]
    }
  ],
  "metadata": {
    "accelerator": "GPU",
    "colab": {
      "provenance": []
    },
    "kernelspec": {
      "display_name": "Python 3.10.6 64-bit",
      "language": "python",
      "name": "python3"
    },
    "language_info": {
      "codemirror_mode": {
        "name": "ipython",
        "version": 3
      },
      "file_extension": ".py",
      "mimetype": "text/x-python",
      "name": "python",
      "nbconvert_exporter": "python",
      "pygments_lexer": "ipython3",
      "version": "3.10.6"
    },
    "vscode": {
      "interpreter": {
        "hash": "e7370f93d1d0cde622a1f8e1c04877d8463912d04d973331ad4851f04de6915a"
      }
    }
  },
  "nbformat": 4,
  "nbformat_minor": 0
}
