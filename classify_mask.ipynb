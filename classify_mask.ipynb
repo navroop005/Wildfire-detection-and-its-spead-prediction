{
 "cells": [
  {
   "cell_type": "code",
   "execution_count": 5,
   "metadata": {},
   "outputs": [],
   "source": [
    "import os\n",
    "import numpy as np\n",
    "from PIL import Image\n",
    "from crop_img import crop_img"
   ]
  },
  {
   "cell_type": "code",
   "execution_count": null,
   "metadata": {},
   "outputs": [],
   "source": [
    "bands = ['B12', 'B11', 'B8A', 'B8', 'B4', 'B3']\n",
    "IMG_SIZE = (2700, 2700)\n",
    "PATCH_SIZE = (300,300)"
   ]
  },
  {
   "cell_type": "code",
   "execution_count": null,
   "metadata": {},
   "outputs": [],
   "source": [
    "# Create directories\n",
    "for f1 in ['all_data']: #, 'vegetation', 'burned', 'other', 'unknown', 'mixed']:\n",
    "    if not os.path.exists(f\"./classes/{f1}/mask/\"):\n",
    "        os.makedirs(f\"./classes/{f1}/mask/\")\n",
    "    if not os.path.exists(f\"./classes/{f1}/normalized_mask/\"):\n",
    "        os.makedirs(f\"./classes/{f1}/normalized_mask/\")\n",
    "    for b in bands:\n",
    "        if not os.path.exists(f\"./classes/{f1}/{b}/\"):\n",
    "            os.makedirs(f\"./classes/{f1}/{b}/\")"
   ]
  },
  {
   "cell_type": "code",
   "execution_count": null,
   "metadata": {},
   "outputs": [],
   "source": [
    "# Divide train mask and band images into 81 images and save them \n",
    "for file in os.listdir('./train_masks/'):\n",
    "    fs  = file.split('_')\n",
    "    tile_name = '_'.join(fs[:4])\n",
    "    file_no = fs[-1][:-4]\n",
    "    img = Image.open('./train_masks/'+file).resize(IMG_SIZE)\n",
    "    crop_img(img, 9, f'./classes/all_data/mask/{tile_name}_{file_no}_')\n",
    "    for b in bands:\n",
    "        file_path = f'../cropped/bands/{tile_name}_{b}_{file_no}.jpg'\n",
    "        img = Image.open(file_path).resize(IMG_SIZE)\n",
    "        crop_img(img, 9, f'./classes/all_data/{b}/{tile_name}_{file_no}_')"
   ]
  },
  {
   "cell_type": "code",
   "execution_count": null,
   "metadata": {},
   "outputs": [],
   "source": [
    "# Threshold area for mixed\n",
    "threshold = 0.95"
   ]
  },
  {
   "cell_type": "code",
   "execution_count": 8,
   "metadata": {},
   "outputs": [],
   "source": [
    "# Identify the class for each mask and also saves normalized mask\n",
    "other = []\n",
    "burned = []\n",
    "vegetation = []\n",
    "unknown = []\n",
    "mixed = []\n",
    "for file in os.listdir('./classes/all_data/mask/'):\n",
    "    img = Image.open('./classes/all_data/mask/'+file)\n",
    "    # img.show()\n",
    "    mask = np.zeros(PATCH_SIZE)\n",
    "    data = np.array(img)\n",
    "\n",
    "    red, green, blue = data.T\n",
    "    mask[(red.T > 245) & (green.T < 10) & (blue.T < 10)] = 1       # red\n",
    "    mask[(red.T < 10) & (green.T > 245) & (blue.T < 10)] = 2       # green\n",
    "    mask[(red.T > 245) & (green.T > 245) & (blue.T > 245)] = 3     # white\n",
    "\n",
    "    outimg = Image.fromarray(mask)\n",
    "    # print(np.mean(mask == 1))\n",
    "    if np.mean(mask == 0) > threshold:\n",
    "        other.append(file)\n",
    "    elif np.mean(mask == 1) > threshold:\n",
    "        burned.append(file)\n",
    "    elif np.mean(mask == 2) > threshold:\n",
    "        vegetation.append(file)\n",
    "    elif np.mean(mask == 3) > threshold:\n",
    "        unknown.append(file)\n",
    "    else:\n",
    "        mixed.append(file)\n",
    "    outimg = Image.fromarray(mask).convert('L')\n",
    "    out_name = file.replace('jpg', 'png')\n",
    "    outimg.save(f'./classes/all_data/normalized_mask/{out_name}')"
   ]
  },
  {
   "cell_type": "code",
   "execution_count": 18,
   "metadata": {},
   "outputs": [
    {
     "name": "stdout",
     "output_type": "stream",
     "text": [
      "other 555\n",
      "burned 438\n",
      "vegetation 2524\n",
      "unknown 469\n",
      "mixed 3952\n",
      "total 7938\n"
     ]
    }
   ],
   "source": [
    "# Print number of files for each class\n",
    "print(\"other\",len(other))\n",
    "print(\"burned\",len(burned))\n",
    "print(\"vegetation\",len(vegetation))\n",
    "print(\"unknown\",len(unknown))\n",
    "print(\"mixed\",len(mixed))\n",
    "print('total', len(other+burned+vegetation+unknown+mixed))"
   ]
  },
  {
   "cell_type": "code",
   "execution_count": 19,
   "metadata": {},
   "outputs": [],
   "source": [
    "# Saves file names to corresponding classes\n",
    "with open('./classes/other.txt', 'w') as f:\n",
    "    for a in other:\n",
    "        f.write(a[:-4]+'\\n')\n",
    "with open('./classes/burned.txt', 'w') as f:\n",
    "    for a in burned:\n",
    "        f.write(a[:-4]+'\\n')\n",
    "with open('./classes/vegetation.txt', 'w') as f:\n",
    "    for a in vegetation:\n",
    "        f.write(a[:-4]+'\\n')\n",
    "with open('./classes/unknown.txt', 'w') as f:\n",
    "    for a in unknown:\n",
    "        f.write(a[:-4]+'\\n')\n",
    "with open('./classes/mixed.txt', 'w') as f:\n",
    "    for a in mixed:\n",
    "        f.write(a[:-4]+'\\n')"
   ]
  },
  {
   "cell_type": "code",
   "execution_count": 22,
   "metadata": {},
   "outputs": [],
   "source": [
    "# Saves file names corresponding labels to csv\n",
    "with open('./classes/labels.csv', 'w')as csv:\n",
    "    csv.write('file,label\\n')\n",
    "    for i, l in enumerate([other, burned, vegetation, unknown, mixed]):\n",
    "        for file in l:\n",
    "            csv.write(f'{file},{i}\\n')\n",
    "            # shutil.copyfile(f'./out/mask/{file}', f'./classes/other/mask/{file}')\n",
    "            # for b in bands:\n",
    "            #     shutil.copyfile(f'./out/{b}/{file}', f'./classes/other/{b}/{file}')"
   ]
  }
 ],
 "metadata": {
  "kernelspec": {
   "display_name": "Python 3",
   "language": "python",
   "name": "python3"
  },
  "language_info": {
   "codemirror_mode": {
    "name": "ipython",
    "version": 3
   },
   "file_extension": ".py",
   "mimetype": "text/x-python",
   "name": "python",
   "nbconvert_exporter": "python",
   "pygments_lexer": "ipython3",
   "version": "3.10.6 (main, Nov 14 2022, 16:10:14) [GCC 11.3.0]"
  },
  "orig_nbformat": 4,
  "vscode": {
   "interpreter": {
    "hash": "e7370f93d1d0cde622a1f8e1c04877d8463912d04d973331ad4851f04de6915a"
   }
  }
 },
 "nbformat": 4,
 "nbformat_minor": 2
}
