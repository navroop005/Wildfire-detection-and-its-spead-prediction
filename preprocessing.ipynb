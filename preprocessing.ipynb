{
    "cells": [
        {
            "cell_type": "code",
            "execution_count": 2,
            "metadata": {},
            "outputs": [],
            "source": [
                "from PIL import Image\n",
                "import numpy as np\n",
                "import os\n",
                "from osgeo import gdal\n",
                "import cv2\n",
                "import matplotlib.pyplot as plt"
            ]
        },
        {
            "cell_type": "code",
            "execution_count": 3,
            "metadata": {},
            "outputs": [],
            "source": [
                "# Dict used to access bands_arr\n",
                "BANDS = {\n",
                "    'B1' : 0,\n",
                "    'B2' : 1,\n",
                "    'B3' : 2,\n",
                "    'B4' : 3,\n",
                "    'B5' : 4,\n",
                "    'B6' : 5,\n",
                "    'B7' : 6,\n",
                "    'B8' : 7,\n",
                "    'B8A' : 8,\n",
                "    'B9' : 9,\n",
                "    'B10' : 10,\n",
                "    'B11' : 11,\n",
                "    'B12' : 12,\n",
                "}"
            ]
        },
        {
            "cell_type": "code",
            "execution_count": 4,
            "metadata": {},
            "outputs": [],
            "source": [
                "import json\n",
                "with open('./band_threshold.json') as f:\n",
                "    BAND_THRESHOLD = json.load(f)"
            ]
        },
        {
            "cell_type": "code",
            "execution_count": 5,
            "metadata": {},
            "outputs": [],
            "source": [
                "# Gets raw data as parameter and return processed image data as np array\n",
                "# calculate thresholds from data histogram and interpolate the range to 0 to 255\n",
                "\n",
                "def adjust_img(image, band):\n",
                "    band = band.replace('B0', '').replace('B', '')\n",
                "\n",
                "    mn = BAND_THRESHOLD[f'B{band}'][0]\n",
                "    mx = BAND_THRESHOLD[f'B{band}'][1]\n",
                "\n",
                "    adj_img = np.interp(image, [mn, mx], [0,255], left=0, right=255)\n",
                "    # print(thres, mn, mx, image.max(), adj_img.max())\n",
                "\n",
                "    return adj_img"
            ]
        },
        {
            "cell_type": "code",
            "execution_count": 6,
            "metadata": {},
            "outputs": [],
            "source": [
                "# Opens the files in fdirlis using gdal and return the image data after adjustments\n",
                "# in form of array of numpy arrays\n",
                "\n",
                "def get_bands(fdirlis, dir = ''):\n",
                "    bands_arr = []\n",
                "    for band in fdirlis:\n",
                "        print('\\t', band)\n",
                "        band_name = band.split('_')[-1][:-4]\n",
                "\n",
                "        ds = gdal.Open(dir + band)\n",
                "        rb = ds.GetRasterBand(1)\n",
                "        img_array = rb.ReadAsArray()\n",
                "        adjusted_img = adjust_img(img_array, band_name)\n",
                "        \n",
                "        # print(adjusted_img.max())\n",
                "        bands_arr.append(adjusted_img)\n",
                "    return bands_arr"
            ]
        },
        {
            "cell_type": "code",
            "execution_count": 7,
            "metadata": {},
            "outputs": [],
            "source": [
                "# Divide the given image to num^2 images and save them as png with \n",
                "# its file number at end\n",
                "\n",
                "def crop_img(img, num, save_prefix):\n",
                "    size = img.size\n",
                "    crop_sizes = []\n",
                "    for i in range(num):\n",
                "        for j in range(num):\n",
                "            x1 = i * size[0]//num\n",
                "            x2 = x1 + size[0]//num\n",
                "            y1 = j * size[1]//num\n",
                "            y2 = y1 + size[1]//num\n",
                "            crop_sizes.append((x1, y1, x2, y2))\n",
                "\n",
                "    for i, s in enumerate(crop_sizes):\n",
                "        cropped = img.crop(s)\n",
                "        cropped.save(save_prefix + f'{i}.jpg', format='JPEG', quality=80)"
            ]
        },
        {
            "cell_type": "code",
            "execution_count": 8,
            "metadata": {},
            "outputs": [],
            "source": [
                "# Receive bands array and band name to resize and save cropped grayscale images into directory\n",
                "\n",
                "def single_band_crop(bands_arr, band, save_prefix, size):\n",
                "    # print(\"\\t\", band)\n",
                "    img = Image.fromarray(bands_arr[BANDS[band]].astype('uint8'), mode='L').resize((size, size), resample=Image.NEAREST)\n",
                "    crop_img(img, 4, save_prefix + f'_{band}_')"
            ]
        },
        {
            "cell_type": "code",
            "execution_count": 9,
            "metadata": {},
            "outputs": [],
            "source": [
                "# Receive bands array and band names in order to resize and save cropped RGB images into directory\n",
                "\n",
                "def rgb_crop(bands_arr, b1, b2, b3, save_prefix, size):\n",
                "    \n",
                "    red = Image.fromarray(bands_arr[BANDS[b1]].astype('uint8'), mode='L').resize((size, size), resample=Image.NEAREST)\n",
                "    green = Image.fromarray(bands_arr[BANDS[b2]].astype('uint8'), mode='L').resize((size, size), resample=Image.NEAREST)\n",
                "    blue = Image.fromarray(bands_arr[BANDS[b3]].astype('uint8'), mode='L').resize((size, size), resample=Image.NEAREST)\n",
                "    img = Image.merge(\"RGB\", (red, green, blue))\n",
                "    \n",
                "    crop_img(img, 4, save_prefix + f'_%s_%s_%s_'% (b1,b2,b3))"
            ]
        },
        {
            "cell_type": "code",
            "execution_count": 10,
            "metadata": {},
            "outputs": [],
            "source": [
                "# dir_path = 'extracted/1918959_5ee6c9c4d2041265_201911_Wildfire_AUS_SN02S33_021653E151_4496882019112120191121MS00_GG001002003/S2A_MSIL1C_20191121T000241_N0208_R030_T56HLJ_20191121T011741.SAFE/GRANULE/L1C_T56HLJ_A023050_20191121T000241/IMG_DATA/'\n",
                "# # dir_path = 'extracted/1918161_5ee6c9c4d2041265_201911_Wildfire_AUS_SN02S31_225762E152_5290432019111620191116MS00_GG001002003/S2B_MSIL1C_20191116T000239_N0208_R030_T56JML_20191116T011508.SAFE/GRANULE/L1C_T56JML_A014070_20191116T000238/IMG_DATA/'\n",
                "# flist = os.listdir(dir_path)\n",
                "# flist[:-1]"
            ]
        },
        {
            "cell_type": "code",
            "execution_count": 11,
            "metadata": {},
            "outputs": [],
            "source": [
                "# b_arr = get_bands(flist[:-1], dir_path)"
            ]
        },
        {
            "cell_type": "code",
            "execution_count": 12,
            "metadata": {},
            "outputs": [],
            "source": [
                "IMG_SIZE = 10980"
            ]
        },
        {
            "cell_type": "code",
            "execution_count": 13,
            "metadata": {},
            "outputs": [],
            "source": [
                "# single_band_crop(b_arr, 'B10', 'output/sample', IMG_SIZE)"
            ]
        },
        {
            "cell_type": "code",
            "execution_count": 14,
            "metadata": {},
            "outputs": [],
            "source": [
                "# rgb_crop(b_arr, 'B4', 'B3', 'B2', './output/samplergb', IMG_SIZE)"
            ]
        },
        {
            "cell_type": "code",
            "execution_count": 15,
            "metadata": {},
            "outputs": [],
            "source": [
                "from natsort import natsorted\n",
                "import threading"
            ]
        },
        {
            "cell_type": "code",
            "execution_count": 16,
            "metadata": {},
            "outputs": [],
            "source": [
                "if not os.path.exists(\"./cropped_new\"):\n",
                "    os.makedirs(\"./cropped_new\")\n",
                "if not os.path.exists(\"./cropped_new/true_color\"):\n",
                "    os.makedirs(\"./cropped_new/true_color\")\n",
                "if not os.path.exists(\"./cropped_new/infrared/\"):\n",
                "    os.makedirs(\"./cropped_new/infrared/\")\n",
                "if not os.path.exists(\"./cropped_new/atm_penetration/\"):\n",
                "    os.makedirs(\"./cropped_new/atm_penetration/\")\n",
                "if not os.path.exists(\"./cropped_new/bands/\"):\n",
                "    os.makedirs(\"./cropped_new/bands/\")"
            ]
        },
        {
            "cell_type": "code",
            "execution_count": 18,
            "metadata": {},
            "outputs": [],
            "source": [
                "import glob\n",
                "files = glob.glob('./cropped_new/*/*.jpg')\n",
                "# files.extend(glob.glob('./cropped_new/*/bin/*.jpg'))\n",
                "done_scenes = []\n",
                "for f in files:\n",
                "    done_scenes.append('_'.join(f.split('/')[-1].split('_')[:-2]))\n",
                "for s in done_scenes:\n",
                "    c = done_scenes.count(s)\n",
                "    if c != 208 and c != 0:\n",
                "        # print(s, c)\n",
                "        done_scenes = [i for i in done_scenes if i != s]\n",
                "done_scenes = set(done_scenes)"
            ]
        },
        {
            "cell_type": "code",
            "execution_count": 19,
            "metadata": {},
            "outputs": [
                {
                    "name": "stdout",
                    "output_type": "stream",
                    "text": [
                        "0    L1C_T51VWK_A031861_20210729T031543\n",
                        "\t T51VWK_20210729T031541_B01.jp2\n",
                        "\t T51VWK_20210729T031541_B02.jp2\n",
                        "\t T51VWK_20210729T031541_B03.jp2\n",
                        "\t T51VWK_20210729T031541_B04.jp2\n",
                        "\t T51VWK_20210729T031541_B05.jp2\n",
                        "\t T51VWK_20210729T031541_B06.jp2\n",
                        "\t T51VWK_20210729T031541_B07.jp2\n",
                        "\t T51VWK_20210729T031541_B08.jp2\n",
                        "\t T51VWK_20210729T031541_B8A.jp2\n",
                        "\t T51VWK_20210729T031541_B09.jp2\n",
                        "\t T51VWK_20210729T031541_B10.jp2\n",
                        "\t T51VWK_20210729T031541_B11.jp2\n",
                        "\t T51VWK_20210729T031541_B12.jp2\n",
                        "1    L1C_T51VWJ_A031818_20210726T030546\n",
                        "\t T51VWJ_20210726T030551_B01.jp2\n",
                        "\t T51VWJ_20210726T030551_B02.jp2\n",
                        "\t T51VWJ_20210726T030551_B03.jp2\n",
                        "\t T51VWJ_20210726T030551_B04.jp2\n",
                        "\t T51VWJ_20210726T030551_B05.jp2\n",
                        "\t T51VWJ_20210726T030551_B06.jp2\n",
                        "\t T51VWJ_20210726T030551_B07.jp2\n",
                        "\t T51VWJ_20210726T030551_B08.jp2\n",
                        "\t T51VWJ_20210726T030551_B8A.jp2\n",
                        "\t T51VWJ_20210726T030551_B09.jp2\n",
                        "\t T51VWJ_20210726T030551_B10.jp2\n",
                        "\t T51VWJ_20210726T030551_B11.jp2\n",
                        "\t T51VWJ_20210726T030551_B12.jp2\n",
                        "2    L1C_T52VDQ_A031918_20210802T025547\n",
                        "\t T52VDQ_20210802T025551_B01.jp2\n",
                        "\t T52VDQ_20210802T025551_B02.jp2\n",
                        "\t T52VDQ_20210802T025551_B03.jp2\n",
                        "\t T52VDQ_20210802T025551_B04.jp2\n",
                        "\t T52VDQ_20210802T025551_B05.jp2\n",
                        "\t T52VDQ_20210802T025551_B06.jp2\n",
                        "\t T52VDQ_20210802T025551_B07.jp2\n",
                        "\t T52VDQ_20210802T025551_B08.jp2\n",
                        "\t T52VDQ_20210802T025551_B8A.jp2\n",
                        "\t T52VDQ_20210802T025551_B09.jp2\n",
                        "\t T52VDQ_20210802T025551_B10.jp2\n",
                        "\t T52VDQ_20210802T025551_B11.jp2\n",
                        "\t T52VDQ_20210802T025551_B12.jp2\n",
                        "3    L1C_T52VCR_A031861_20210729T031543\n",
                        "\t T52VCR_20210729T031541_B01.jp2\n",
                        "\t T52VCR_20210729T031541_B02.jp2\n",
                        "\t T52VCR_20210729T031541_B03.jp2\n",
                        "\t T52VCR_20210729T031541_B04.jp2\n",
                        "\t T52VCR_20210729T031541_B05.jp2\n",
                        "\t T52VCR_20210729T031541_B06.jp2\n",
                        "\t T52VCR_20210729T031541_B07.jp2\n",
                        "\t T52VCR_20210729T031541_B08.jp2\n",
                        "\t T52VCR_20210729T031541_B8A.jp2\n",
                        "\t T52VCR_20210729T031541_B09.jp2\n",
                        "\t T52VCR_20210729T031541_B10.jp2\n",
                        "\t T52VCR_20210729T031541_B11.jp2\n",
                        "\t T52VCR_20210729T031541_B12.jp2\n"
                    ]
                }
            ],
            "source": [
                "# iterate over all folders in extracted that contains band data\n",
                "threads = []\n",
                "c = 0\n",
                "for path, dir, files in os.walk('/media/navroop/New Volume1/wildfire/new'):\n",
                "    if len(files) == 14:\n",
                "        files = natsorted(files)[:-1]\n",
                "        scene_id = path.split('/')[-2]\n",
                "        print(c, '  ', scene_id)\n",
                "        c += 1\n",
                "        # print(files)\n",
                "        if scene_id in done_scenes:\n",
                "            # print(scene_id)\n",
                "            continue\n",
                "\n",
                "        bands_arr = get_bands(files, path+'/')\n",
                "\n",
                "        # save all bands cropped to given dir\n",
                "        for band in BANDS:\n",
                "            threads.append(threading.Thread(target=single_band_crop, args=(\n",
                "                bands_arr, band, f'./cropped_new/bands/{scene_id}', IMG_SIZE)))\n",
                "            # single_band_crop(bands_arr, band, f'./cropped/{scene_id}', IMG_SIZE)\n",
                "\n",
                "        # save cropped rgb image using given bands to given dir\n",
                "        threads.append(threading.Thread(target=rgb_crop, args=(\n",
                "            bands_arr, 'B4', 'B3', 'B2', f'./cropped_new/true_color/{scene_id}', IMG_SIZE)))\n",
                "        threads.append(threading.Thread(target=rgb_crop, args=(\n",
                "            bands_arr, 'B12', 'B11', 'B8A', f'./cropped_new/atm_penetration/{scene_id}', IMG_SIZE)))\n",
                "        threads.append(threading.Thread(target=rgb_crop, args=(\n",
                "            bands_arr, 'B8', 'B4', 'B3', f'./cropped_new/infrared/{scene_id}', IMG_SIZE)))\n",
                "        # rgb_crop(bands_arr, 'B4', 'B3', 'B2',f'./cropped/true_color/{scene_id}')\n",
                "        # rgb_crop(bands_arr, 'B12', 'B11', 'B8A',f'./cropped/atm_penetration/{scene_id}')\n",
                "        # rgb_crop(bands_arr, 'B8', 'B4', 'B3', f'./cropped/infrared/{scene_id}')\n",
                "\n",
                "        for t in threads:\n",
                "            t.start()\n",
                "        for t in threads:\n",
                "            t.join()\n",
                "        threads.clear()\n"
            ]
        }
    ],
    "metadata": {
        "kernelspec": {
            "display_name": "Python 3.10.6 64-bit",
            "language": "python",
            "name": "python3"
        },
        "language_info": {
            "codemirror_mode": {
                "name": "ipython",
                "version": 3
            },
            "file_extension": ".py",
            "mimetype": "text/x-python",
            "name": "python",
            "nbconvert_exporter": "python",
            "pygments_lexer": "ipython3",
            "version": "3.10.6 (main, Nov 14 2022, 16:10:14) [GCC 11.3.0]"
        },
        "orig_nbformat": 4,
        "vscode": {
            "interpreter": {
                "hash": "e7370f93d1d0cde622a1f8e1c04877d8463912d04d973331ad4851f04de6915a"
            }
        }
    },
    "nbformat": 4,
    "nbformat_minor": 2
}
